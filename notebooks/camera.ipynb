{
 "cells": [
  {
   "cell_type": "code",
   "execution_count": 2,
   "id": "6f80cc6c",
   "metadata": {},
   "outputs": [],
   "source": [
    "import cv2\n",
    "import numpy as np\n"
   ]
  },
  {
   "cell_type": "markdown",
   "id": "fa15ad2d",
   "metadata": {},
   "source": [
    "My Camera"
   ]
  },
  {
   "cell_type": "code",
   "execution_count": 1,
   "id": "c790aef4",
   "metadata": {},
   "outputs": [],
   "source": [
    "def camera():\n",
    "    camera = cv2.VideoCapture(0)\n",
    "    if not camera.isOpened() :\n",
    "        print(\"Cannot open camera\")\n",
    "        exit()\n",
    "\n",
    "    while True:\n",
    "        ret , frame =camera.read()\n",
    "\n",
    "        rgb = cv2.cvtColor(frame , cv2.COLOR_BGR2RGB)\n",
    "        cv2.imshow(\"frame\" , frame)\n",
    "        if cv2.waitKey(25) == ord('q'):\n",
    "            break\n",
    "\n",
    "    camera.release()\n",
    "    cv2.destroyAllWindows()\n",
    "\n"
   ]
  },
  {
   "cell_type": "markdown",
   "id": "99159cd5",
   "metadata": {},
   "source": [
    "Playing Video"
   ]
  },
  {
   "cell_type": "code",
   "execution_count": 6,
   "id": "915a2644",
   "metadata": {},
   "outputs": [],
   "source": [
    "def video(link):\n",
    "    camera = cv2.VideoCapture(link)\n",
    "    \n",
    "    while camera.isOpened():\n",
    "        ret, frame = camera.read()\n",
    "        \n",
    "        rgb = cv2.cvtColor(frame, cv2.COLOR_BGR2RGB)\n",
    "    \n",
    "        cv2.imshow('frame', frame)\n",
    "        if cv2.waitKey(25) == ord('q'):\n",
    "            break\n",
    "    \n",
    "    camera.release()\n",
    "    cv2.destroyAllWindows()\n"
   ]
  },
  {
   "cell_type": "code",
   "execution_count": null,
   "id": "41d9341b",
   "metadata": {},
   "outputs": [],
   "source": []
  }
 ],
 "metadata": {
  "kernelspec": {
   "display_name": "Python (ml_cv)",
   "language": "python",
   "name": "ml_cv"
  },
  "language_info": {
   "codemirror_mode": {
    "name": "ipython",
    "version": 3
   },
   "file_extension": ".py",
   "mimetype": "text/x-python",
   "name": "python",
   "nbconvert_exporter": "python",
   "pygments_lexer": "ipython3",
   "version": "3.11.13"
  }
 },
 "nbformat": 4,
 "nbformat_minor": 5
}
